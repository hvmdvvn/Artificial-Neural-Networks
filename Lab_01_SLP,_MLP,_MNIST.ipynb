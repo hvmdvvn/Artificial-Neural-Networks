{
  "nbformat": 4,
  "nbformat_minor": 0,
  "metadata": {
    "colab": {
      "provenance": [],
      "collapsed_sections": [
        "vysRnsEH-ElZ",
        "gXnDZtF-9v26",
        "b3gcOe6q-UDB",
        "N95Va7DU-9g_"
      ],
      "authorship_tag": "ABX9TyPOnf4rwljE552XH0BBo1Mv",
      "include_colab_link": true
    },
    "kernelspec": {
      "name": "python3",
      "display_name": "Python 3"
    },
    "language_info": {
      "name": "python"
    }
  },
  "cells": [
    {
      "cell_type": "markdown",
      "metadata": {
        "id": "view-in-github",
        "colab_type": "text"
      },
      "source": [
        "<a href=\"https://colab.research.google.com/github/hvmdvvn/Artificial-Neural-Networks/blob/main/Lab_01_SLP%2C_MLP%2C_MNIST.ipynb\" target=\"_parent\"><img src=\"https://colab.research.google.com/assets/colab-badge.svg\" alt=\"Open In Colab\"/></a>"
      ]
    },
    {
      "cell_type": "markdown",
      "source": [],
      "metadata": {
        "id": "Qc_uJLYC-IfP"
      }
    },
    {
      "cell_type": "markdown",
      "source": [
        "## **Task 1**"
      ],
      "metadata": {
        "id": "j2so_en1-H-I"
      }
    },
    {
      "cell_type": "markdown",
      "source": [
        "Implement a single-layer perceptron (SLP) to classify linearly separable data. Understand how\n",
        "the perceptron algorithm works and visualize its decision boundary."
      ],
      "metadata": {
        "id": "cDD7qorj-NHo"
      }
    },
    {
      "cell_type": "markdown",
      "source": [
        "### Basic"
      ],
      "metadata": {
        "id": "vysRnsEH-ElZ"
      }
    },
    {
      "cell_type": "code",
      "source": [
        "import numpy as np\n",
        "import random"
      ],
      "metadata": {
        "id": "JWEggxf06lmG"
      },
      "execution_count": 25,
      "outputs": []
    },
    {
      "cell_type": "code",
      "source": [
        "X = np.array([\n",
        "    [1, 2], [2, 3], [3, 3], [4, 5],   # Class 0\n",
        "    [6, 5], [7, 8], [8, 7], [9, 9]    # Class 1\n",
        "])\n",
        "y = np.array([0, 0, 0, 0, 1, 1, 1, 1])  # Labels"
      ],
      "metadata": {
        "id": "KRE5yJJ77BK6"
      },
      "execution_count": 26,
      "outputs": []
    },
    {
      "cell_type": "code",
      "source": [
        "# Initialize weights & bias randomly\n",
        "w1 = random.random()\n",
        "w2 = random.random()\n",
        "b = random.random()\n",
        "lr = 0.1"
      ],
      "metadata": {
        "id": "3M0WGLpe82aW"
      },
      "execution_count": 27,
      "outputs": []
    },
    {
      "cell_type": "code",
      "source": [
        "print(\"Initial weights and bias:\", w1, w2, b)"
      ],
      "metadata": {
        "colab": {
          "base_uri": "https://localhost:8080/"
        },
        "id": "uApYxFbA83q1",
        "outputId": "9af15e2d-a422-4e56-dca6-d252850ff5ef"
      },
      "execution_count": 28,
      "outputs": [
        {
          "output_type": "stream",
          "name": "stdout",
          "text": [
            "Initial weights and bias: 0.27326520650609176 0.2717947737875702 0.6799145496665748\n"
          ]
        }
      ]
    },
    {
      "cell_type": "code",
      "source": [
        "# Activation function (step)\n",
        "def activation(x):\n",
        "    return 1 if x > 0 else 0"
      ],
      "metadata": {
        "id": "8_Tzjrvm85wb"
      },
      "execution_count": 29,
      "outputs": []
    },
    {
      "cell_type": "code",
      "source": [
        "# Perceptron update rule for one sample\n",
        "def perceptron_update(x1, x2, y_true, w1, w2, b, lr):\n",
        "    linear_output = w1 * x1 + w2 * x2 + b\n",
        "    y_pred = activation(linear_output)\n",
        "\n",
        "    # Update rule\n",
        "    w1 = w1 + lr * (y_true - y_pred) * x1\n",
        "    w2 = w2 + lr * (y_true - y_pred) * x2\n",
        "    b  = b  + lr * (y_true - y_pred)\n",
        "\n",
        "    return w1, w2, b"
      ],
      "metadata": {
        "id": "Rqsl2i2L7sTS"
      },
      "execution_count": 30,
      "outputs": []
    },
    {
      "cell_type": "code",
      "source": [
        "# Training loop\n",
        "epochs = 10\n",
        "for epoch in range(epochs):\n",
        "    for i in range(len(X)):\n",
        "        x1, x2 = X[i]\n",
        "        w1, w2, b = perceptron_update(x1, x2, y[i], w1, w2, b, lr)\n",
        "    print(f\"After epoch {epoch+1}: w1={w1:.3f}, w2={w2:.3f}, b={b:.3f}\")"
      ],
      "metadata": {
        "colab": {
          "base_uri": "https://localhost:8080/"
        },
        "id": "9ZoGDA8U8-9y",
        "outputId": "4572d04c-3ff1-4a40-f175-225ee8787bfd"
      },
      "execution_count": 31,
      "outputs": [
        {
          "output_type": "stream",
          "name": "stdout",
          "text": [
            "After epoch 1: w1=0.573, w2=0.272, b=0.580\n",
            "After epoch 2: w1=0.573, w2=-0.028, b=0.380\n",
            "After epoch 3: w1=0.873, w2=-0.028, b=0.280\n",
            "After epoch 4: w1=0.873, w2=-0.328, b=0.080\n",
            "After epoch 5: w1=1.073, w2=-0.328, b=-0.020\n",
            "After epoch 6: w1=1.473, w2=-0.028, b=-0.120\n",
            "After epoch 7: w1=1.573, w2=-0.028, b=-0.320\n",
            "After epoch 8: w1=1.673, w2=-0.028, b=-0.520\n",
            "After epoch 9: w1=1.073, w2=-0.828, b=-0.820\n",
            "After epoch 10: w1=1.073, w2=-0.828, b=-0.820\n"
          ]
        }
      ]
    },
    {
      "cell_type": "code",
      "source": [
        "import matplotlib.pyplot as plt\n",
        "import numpy as np\n",
        "\n",
        "def visualize(X, y, w1, w2, b):\n",
        "    # Plot points\n",
        "    for i in range(len(X)):\n",
        "        if y[i] == 0:\n",
        "            plt.scatter(X[i][0], X[i][1], color=\"blue\", marker=\"o\")\n",
        "        else:\n",
        "            plt.scatter(X[i][0], X[i][1], color=\"red\", marker=\"x\")\n",
        "\n",
        "    # Plot decision boundary: w1*x1 + w2*x2 + b = 0\n",
        "    x_vals = np.linspace(min(X[:,0])-1, max(X[:,0])+1, 100)\n",
        "    y_vals = -(w1 * x_vals + b) / w2\n",
        "    plt.plot(x_vals, y_vals, \"g--\")\n",
        "\n",
        "    plt.xlabel(\"X1\")\n",
        "    plt.ylabel(\"X2\")\n",
        "    plt.title(\"Perceptron Decision Boundary\")\n",
        "    plt.show()"
      ],
      "metadata": {
        "id": "0l-0hAuM8W03"
      },
      "execution_count": 32,
      "outputs": []
    },
    {
      "cell_type": "code",
      "source": [
        "visualize(X, y, w1, w2, b)"
      ],
      "metadata": {
        "colab": {
          "base_uri": "https://localhost:8080/",
          "height": 472
        },
        "id": "U1Fafazd-ARh",
        "outputId": "b679c90e-5f04-4824-afb2-9d51dfae840f"
      },
      "execution_count": 33,
      "outputs": [
        {
          "output_type": "display_data",
          "data": {
            "text/plain": [
              "<Figure size 640x480 with 1 Axes>"
            ],
            "image/png": "[encoded data removed]"
          },
          "metadata": {}
        }
      ]
    },
    {
      "cell_type": "markdown",
      "source": [
        "### Using Classes"
      ],
      "metadata": {
        "id": "gXnDZtF-9v26"
      }
    },
    {
      "cell_type": "code",
      "execution_count": null,
      "metadata": {
        "id": "nx5RWDkO4n91"
      },
      "outputs": [],
      "source": [
        "import numpy as np\n",
        "import matplotlib.pyplot as plt"
      ]
    },
    {
      "cell_type": "code",
      "source": [
        "X = np.array([\n",
        "    [1, 2], [2, 3], [3, 3], [4, 5],   # Class 0\n",
        "    [6, 5], [7, 8], [8, 7], [9, 9]    # Class 1\n",
        "])\n",
        "y = np.array([0, 0, 0, 0, 1, 1, 1, 1])  # Labels"
      ],
      "metadata": {
        "id": "nRGDd5gI5Anz"
      },
      "execution_count": null,
      "outputs": []
    },
    {
      "cell_type": "code",
      "source": [
        "class Perceptron:\n",
        "    def __init__(self, learning_rate=0.1, epochs=10):\n",
        "        self.lr = learning_rate\n",
        "        self.epochs = epochs\n",
        "        self.w = None\n",
        "        self.b = None\n",
        "\n",
        "    def activation(self, x):\n",
        "        return np.where(x > 0, 1, 0)  # Step function\n",
        "\n",
        "    def fit(self, X, y):\n",
        "        n_samples, n_features = X.shape\n",
        "        self.w = np.zeros(n_features)\n",
        "        self.b = 0\n",
        "\n",
        "        for _ in range(self.epochs):\n",
        "            for idx, x_i in enumerate(X):\n",
        "                linear_output = np.dot(x_i, self.w) + self.b\n",
        "                y_pred = self.activation(linear_output)\n",
        "                update = self.lr * (y[idx] - y_pred)\n",
        "                self.w += update * x_i\n",
        "                self.b += update\n",
        "\n",
        "    def predict(self, X):\n",
        "        linear_output = np.dot(X, self.w) + self.b\n",
        "        return self.activation(linear_output)"
      ],
      "metadata": {
        "id": "W7TFRhP-5Dlz"
      },
      "execution_count": null,
      "outputs": []
    },
    {
      "cell_type": "code",
      "source": [
        "perceptron = Perceptron(learning_rate=0.1, epochs=10)\n",
        "perceptron.fit(X, y)\n",
        "\n",
        "print(\"Learned weights:\", perceptron.w)\n",
        "print(\"Learned bias:\", perceptron.b)"
      ],
      "metadata": {
        "colab": {
          "base_uri": "https://localhost:8080/"
        },
        "id": "J41wri8n5Gpv",
        "outputId": "25ac8f03-4d44-47ae-ef99-0b2655024d33"
      },
      "execution_count": null,
      "outputs": [
        {
          "output_type": "stream",
          "name": "stdout",
          "text": [
            "Learned weights: [ 1.1 -0.8]\n",
            "Learned bias: -0.8999999999999999\n"
          ]
        }
      ]
    },
    {
      "cell_type": "code",
      "source": [
        "for idx, point in enumerate(X):\n",
        "    if y[idx] == 0:\n",
        "        plt.scatter(point[0], point[1], color=\"red\", marker=\"o\", label=\"Class 0\" if idx == 0 else \"\")\n",
        "    else:\n",
        "        plt.scatter(point[0], point[1], color=\"blue\", marker=\"x\", label=\"Class 1\" if idx == 4 else \"\")\n",
        "\n",
        "x1_vals = np.linspace(0, 10, 100)\n",
        "if perceptron.w[1] != 0:\n",
        "    x2_vals = -(perceptron.w[0] * x1_vals + perceptron.b) / perceptron.w[1]\n",
        "    plt.plot(x1_vals, x2_vals, color=\"green\", label=\"Decision Boundary\")\n",
        "else:\n",
        "    plt.axvline(x=-perceptron.b / perceptron.w[0], color=\"green\", label=\"Decision Boundary\")\n",
        "\n",
        "plt.xlabel(\"X1\")\n",
        "plt.ylabel(\"X2\")\n",
        "plt.title(\"Perceptron Decision Boundary\")\n",
        "plt.legend()\n",
        "plt.grid(True)\n",
        "plt.show()"
      ],
      "metadata": {
        "colab": {
          "base_uri": "https://localhost:8080/",
          "height": 472
        },
        "id": "uAcBjZWJ5QR7",
        "outputId": "84f66b16-c3ce-4fd8-8d0a-a114b3bf3d87"
      },
      "execution_count": null,
      "outputs": [
        {
          "output_type": "display_data",
          "data": {
            "text/plain": [
              "<Figure size 640x480 with 1 Axes>"
            ],
            "image/png": "[encoded data removed]"
          },
          "metadata": {}
        }
      ]
    },
    {
      "cell_type": "markdown",
      "source": [
        "### Using Pytorch"
      ],
      "metadata": {
        "id": "b3gcOe6q-UDB"
      }
    },
    {
      "cell_type": "code",
      "source": [
        "import torch\n",
        "import torch.nn as nn\n",
        "import matplotlib.pyplot as plt\n",
        "import numpy as np"
      ],
      "metadata": {
        "id": "m_n-J4SN-V79"
      },
      "execution_count": 34,
      "outputs": []
    },
    {
      "cell_type": "code",
      "source": [
        "X = np.array([\n",
        "    [1, 2], [2, 3], [3, 3], [4, 5],   # Class 0\n",
        "    [6, 5], [7, 8], [8, 7], [9, 9]    # Class 1\n",
        "], dtype=np.float32)\n",
        "y = np.array([0, 0, 0, 0, 1, 1, 1, 1], dtype=np.float32)"
      ],
      "metadata": {
        "id": "pwVQ8Ofl-gtM"
      },
      "execution_count": 35,
      "outputs": []
    },
    {
      "cell_type": "code",
      "source": [
        "X_tensor = torch.tensor(X)\n",
        "y_tensor = torch.tensor(y).unsqueeze(1)  # shape (8,1)"
      ],
      "metadata": {
        "id": "iU-XxvEr-iNU"
      },
      "execution_count": 36,
      "outputs": []
    },
    {
      "cell_type": "code",
      "source": [
        "model = nn.Sequential(\n",
        "    nn.Linear(2, 1),   # input=2 features\n",
        "    nn.Sigmoid()       # activation\n",
        ")\n"
      ],
      "metadata": {
        "id": "W-yLFa2g-jXz"
      },
      "execution_count": 37,
      "outputs": []
    },
    {
      "cell_type": "code",
      "source": [
        "criterion = nn.BCELoss()\n",
        "optimizer = torch.optim.SGD(model.parameters(), lr=0.1)"
      ],
      "metadata": {
        "id": "migR9oza-ktn"
      },
      "execution_count": 38,
      "outputs": []
    },
    {
      "cell_type": "code",
      "source": [
        "for epoch in range(50):\n",
        "    optimizer.zero_grad()\n",
        "    y_pred = model(X_tensor)\n",
        "    loss = criterion(y_pred, y_tensor)\n",
        "    loss.backward()\n",
        "    optimizer.step()\n",
        "    if (epoch+1) % 10 == 0:\n",
        "        print(f\"Epoch {epoch+1}, Loss: {loss.item():.4f}\")"
      ],
      "metadata": {
        "colab": {
          "base_uri": "https://localhost:8080/"
        },
        "id": "qjoNJBss-l2B",
        "outputId": "b2028257-3616-45b6-e975-b3baea60a9c5"
      },
      "execution_count": 39,
      "outputs": [
        {
          "output_type": "stream",
          "name": "stdout",
          "text": [
            "Epoch 10, Loss: 0.4238\n",
            "Epoch 20, Loss: 0.3924\n",
            "Epoch 30, Loss: 0.3658\n",
            "Epoch 40, Loss: 0.3430\n",
            "Epoch 50, Loss: 0.3234\n"
          ]
        }
      ]
    },
    {
      "cell_type": "code",
      "source": [
        "w1, w2 = model[0].weight.detach().numpy()[0]\n",
        "b = model[0].bias.detach().numpy()[0]"
      ],
      "metadata": {
        "id": "Zkq-7qkf-qaV"
      },
      "execution_count": 40,
      "outputs": []
    },
    {
      "cell_type": "code",
      "source": [
        "def visualize(X, y, w1, w2, b):\n",
        "    for i in range(len(X)):\n",
        "        if y[i] == 0:\n",
        "            plt.scatter(X[i][0], X[i][1], color=\"blue\", marker=\"o\")\n",
        "        else:\n",
        "            plt.scatter(X[i][0], X[i][1], color=\"red\", marker=\"x\")\n",
        "    x_vals = np.linspace(min(X[:,0])-1, max(X[:,0])+1, 100)\n",
        "    y_vals = -(w1 * x_vals + b) / w2\n",
        "    plt.plot(x_vals, y_vals, \"g--\")\n",
        "    plt.show()\n",
        "\n",
        "visualize(X, y, w1, w2, b)"
      ],
      "metadata": {
        "colab": {
          "base_uri": "https://localhost:8080/",
          "height": 430
        },
        "id": "BzRK-zEQ-reV",
        "outputId": "1d836b03-ead2-4549-cba8-4eb285322298"
      },
      "execution_count": 41,
      "outputs": [
        {
          "output_type": "display_data",
          "data": {
            "text/plain": [
              "<Figure size 640x480 with 1 Axes>"
            ],
            "image/png": "[encoded data removed]"
          },
          "metadata": {}
        }
      ]
    },
    {
      "cell_type": "markdown",
      "source": [
        "### Using Tensorflow/Keras"
      ],
      "metadata": {
        "id": "N95Va7DU-9g_"
      }
    },
    {
      "cell_type": "code",
      "source": [
        "import tensorflow as tf\n",
        "import numpy as np\n",
        "import matplotlib.pyplot as plt"
      ],
      "metadata": {
        "id": "fp9pSCOX-vzc"
      },
      "execution_count": 42,
      "outputs": []
    },
    {
      "cell_type": "code",
      "source": [
        "X = np.array([\n",
        "    [1, 2], [2, 3], [3, 3], [4, 5],   # Class 0\n",
        "    [6, 5], [7, 8], [8, 7], [9, 9]    # Class 1\n",
        "], dtype=np.float32)\n",
        "y = np.array([0, 0, 0, 0, 1, 1, 1, 1], dtype=np.float32)"
      ],
      "metadata": {
        "id": "epuiuyRh_Eg3"
      },
      "execution_count": 43,
      "outputs": []
    },
    {
      "cell_type": "code",
      "source": [
        "model = tf.keras.Sequential([\n",
        "    tf.keras.layers.Dense(1, activation=\"sigmoid\", input_shape=(2,))\n",
        "])"
      ],
      "metadata": {
        "colab": {
          "base_uri": "https://localhost:8080/"
        },
        "id": "wmApl7gS_LrQ",
        "outputId": "c126f84c-222e-43fe-d2bc-dc8f7f2f161f"
      },
      "execution_count": 44,
      "outputs": [
        {
          "output_type": "stream",
          "name": "stderr",
          "text": [
            "/usr/local/lib/python3.12/dist-packages/keras/src/layers/core/dense.py:93: UserWarning: Do not pass an `input_shape`/`input_dim` argument to a layer. When using Sequential models, prefer using an `Input(shape)` object as the first layer in the model instead.\n",
            "  super().__init__(activity_regularizer=activity_regularizer, **kwargs)\n"
          ]
        }
      ]
    },
    {
      "cell_type": "code",
      "source": [
        "model.compile(optimizer=tf.keras.optimizers.SGD(learning_rate=0.1),\n",
        "              loss=\"binary_crossentropy\",\n",
        "              metrics=[\"accuracy\"])"
      ],
      "metadata": {
        "id": "MPmVPo8N_Nw3"
      },
      "execution_count": 45,
      "outputs": []
    },
    {
      "cell_type": "code",
      "source": [
        "model.fit(X, y, epochs=10, verbose=0)"
      ],
      "metadata": {
        "colab": {
          "base_uri": "https://localhost:8080/"
        },
        "id": "N5UDSssV_O74",
        "outputId": "2ec83b94-9f14-4bf6-f4c6-71c39664919d"
      },
      "execution_count": 49,
      "outputs": [
        {
          "output_type": "execute_result",
          "data": {
            "text/plain": [
              "<keras.src.callbacks.history.History at 0x7803c1071e80>"
            ]
          },
          "metadata": {},
          "execution_count": 49
        }
      ]
    },
    {
      "cell_type": "code",
      "source": [
        "weights, bias = model.layers[0].get_weights()\n",
        "w1, w2 = weights[:,0]\n",
        "b = bias[0]"
      ],
      "metadata": {
        "id": "4lP4V2QM_Qnm"
      },
      "execution_count": 50,
      "outputs": []
    },
    {
      "cell_type": "code",
      "source": [
        "def visualize(X, y, w1, w2, b):\n",
        "    for i in range(len(X)):\n",
        "        if y[i] == 0:\n",
        "            plt.scatter(X[i][0], X[i][1], color=\"blue\", marker=\"o\")\n",
        "        else:\n",
        "            plt.scatter(X[i][0], X[i][1], color=\"red\", marker=\"x\")\n",
        "    x_vals = np.linspace(min(X[:,0])-1, max(X[:,0])+1, 100)\n",
        "    y_vals = -(w1 * x_vals + b) / w2\n",
        "    plt.plot(x_vals, y_vals, \"g--\")\n",
        "    plt.show()\n",
        "\n",
        "visualize(X, y, w1, w2, b)"
      ],
      "metadata": {
        "colab": {
          "base_uri": "https://localhost:8080/",
          "height": 434
        },
        "id": "zkjGiim2_Rv2",
        "outputId": "c8a4a302-e29b-4f38-c551-9b7dc20f8505"
      },
      "execution_count": 51,
      "outputs": [
        {
          "output_type": "display_data",
          "data": {
            "text/plain": [
              "<Figure size 640x480 with 1 Axes>"
            ],
            "image/png": "[encoded data removed]"
          },
          "metadata": {}
        }
      ]
    },
    {
      "cell_type": "code",
      "source": [],
      "metadata": {
        "id": "YO5bosrV_jq1"
      },
      "execution_count": null,
      "outputs": []
    },
    {
      "cell_type": "markdown",
      "source": [
        "## **Task 2**"
      ],
      "metadata": {
        "id": "aRbaTlb3_mng"
      }
    },
    {
      "cell_type": "markdown",
      "source": [
        "Understand the capability of a multilayer perceptron (MLP) to solve non-linearly\n",
        "separable problems like XOR. Implement a simple MLP with one hidden layer."
      ],
      "metadata": {
        "id": "HYOQerh2_sqD"
      }
    },
    {
      "cell_type": "markdown",
      "source": [
        "### Basic\n"
      ],
      "metadata": {
        "id": "A62Rx3DQ_-bi"
      }
    },
    {
      "cell_type": "code",
      "source": [
        "import numpy as np\n",
        "import matplotlib.pyplot as plt"
      ],
      "metadata": {
        "id": "K3t1DjfDBqMC"
      },
      "execution_count": 97,
      "outputs": []
    },
    {
      "cell_type": "code",
      "source": [
        "X = np.array([[0,0],[0,1],[1,0],[1,1]])\n",
        "y = np.array([[0],[1],[1],[0]])"
      ],
      "metadata": {
        "id": "LVDiYRz2Bogy"
      },
      "execution_count": 95,
      "outputs": []
    },
    {
      "cell_type": "code",
      "source": [
        "def sigmoid(x):\n",
        "    return 1 / (1 + np.exp(-x))\n",
        "\n",
        "def sigmoid_derivative(x):\n",
        "    return x * (1 - x)"
      ],
      "metadata": {
        "id": "Kg5LbQh-Brgg"
      },
      "execution_count": 96,
      "outputs": []
    },
    {
      "cell_type": "code",
      "source": [
        "w1 = np.random.randn(2,2)\n",
        "b1 = np.zeros((1,2))\n",
        "w2 = np.random.randn(2,1)\n",
        "b2 = np.zeros((1,1))\n",
        "lr = 0.1"
      ],
      "metadata": {
        "id": "P6yAZ_zvByJe"
      },
      "execution_count": 119,
      "outputs": []
    },
    {
      "cell_type": "code",
      "source": [
        "def forward(X, w1, b1, w2, b2):\n",
        "    z1 = np.dot(X, w1) + b1\n",
        "    a1 = sigmoid(z1)\n",
        "    z2 = np.dot(a1, w2) + b2\n",
        "    a2 = sigmoid(z2)\n",
        "    return a1, a2"
      ],
      "metadata": {
        "id": "PC1TvlGQB2jg"
      },
      "execution_count": 109,
      "outputs": []
    },
    {
      "cell_type": "code",
      "source": [
        "def backward(X, y, a1, a2, w1, b1, w2, b2, lr):\n",
        "    m = len(y)\n",
        "\n",
        "    # Output layer error\n",
        "    error_output = a2 - y\n",
        "    dW2 = np.dot(a1.T, error_output * sigmoid_derivative(a2))\n",
        "    db2 = np.sum(error_output * sigmoid_derivative(a2), axis=0, keepdims=True)\n",
        "\n",
        "    # Hidden layer error\n",
        "    error_hidden = np.dot(error_output * sigmoid_derivative(a2), w2.T)\n",
        "    dW1 = np.dot(X.T, error_hidden * sigmoid_derivative(a1))\n",
        "    db1 = np.sum(error_hidden * sigmoid_derivative(a1), axis=0, keepdims=True)\n",
        "\n",
        "    # Update weights\n",
        "    w1 -= lr * dW1\n",
        "    b1 -= lr * db1\n",
        "    w2 -= lr * dW2\n",
        "    b2 -= lr * db2\n",
        "\n",
        "    return w1, b1, w2, b2"
      ],
      "metadata": {
        "id": "EG3MlBv3B829"
      },
      "execution_count": 108,
      "outputs": []
    },
    {
      "cell_type": "code",
      "source": [
        "def train(X, y, w1, b1, w2, b2, epochs=1000, lr=0.1):\n",
        "    losses = []\n",
        "    for epoch in range(epochs):\n",
        "        a1, a2 = forward(X, w1, b1, w2, b2)\n",
        "        loss = np.mean(0.5 * (y - a2)**2)\n",
        "        losses.append(loss)\n",
        "        w1, b1, w2, b2 = backward(X, y, a1, a2, w1, b1, w2, b2, lr)\n",
        "        if (epoch+1) % 100 == 0:\n",
        "            print(f\"Epoch {epoch+1}, Loss: {loss:.4f}\")\n",
        "    return w1, b1, w2, b2, losses"
      ],
      "metadata": {
        "id": "1gDqOvCICIJt"
      },
      "execution_count": 106,
      "outputs": []
    },
    {
      "cell_type": "code",
      "source": [
        "def predict(X, w1, b1, w2, b2):\n",
        "    _, a2 = forward(X, w1, b1, w2, b2)\n",
        "    return (a2 > 0.5).astype(int)"
      ],
      "metadata": {
        "id": "RgvgceMBCUpz"
      },
      "execution_count": 116,
      "outputs": []
    },
    {
      "cell_type": "code",
      "source": [
        "w1, b1, w2, b2, losses = train(X, y, w1, b1, w2, b2, epochs=30000, lr=0.1)"
      ],
      "metadata": {
        "colab": {
          "base_uri": "https://localhost:8080/"
        },
        "id": "1mawyQYHCbAI",
        "outputId": "31bc271e-a27c-4240-d9d2-d8b67fedcc1c"
      },
      "execution_count": 120,
      "outputs": [
        {
          "output_type": "stream",
          "name": "stdout",
          "text": [
            "Epoch 100, Loss: 0.1251\n",
            "Epoch 200, Loss: 0.1251\n",
            "Epoch 300, Loss: 0.1250\n",
            "Epoch 400, Loss: 0.1250\n",
            "Epoch 500, Loss: 0.1250\n",
            "Epoch 600, Loss: 0.1250\n",
            "Epoch 700, Loss: 0.1250\n",
            "Epoch 800, Loss: 0.1250\n",
            "Epoch 900, Loss: 0.1250\n",
            "Epoch 1000, Loss: 0.1250\n",
            "Epoch 1100, Loss: 0.1250\n",
            "Epoch 1200, Loss: 0.1250\n",
            "Epoch 1300, Loss: 0.1250\n",
            "Epoch 1400, Loss: 0.1250\n",
            "Epoch 1500, Loss: 0.1250\n",
            "Epoch 1600, Loss: 0.1250\n",
            "Epoch 1700, Loss: 0.1250\n",
            "Epoch 1800, Loss: 0.1250\n",
            "Epoch 1900, Loss: 0.1250\n",
            "Epoch 2000, Loss: 0.1250\n",
            "Epoch 2100, Loss: 0.1250\n",
            "Epoch 2200, Loss: 0.1250\n",
            "Epoch 2300, Loss: 0.1250\n",
            "Epoch 2400, Loss: 0.1250\n",
            "Epoch 2500, Loss: 0.1250\n",
            "Epoch 2600, Loss: 0.1250\n",
            "Epoch 2700, Loss: 0.1250\n",
            "Epoch 2800, Loss: 0.1250\n",
            "Epoch 2900, Loss: 0.1250\n",
            "Epoch 3000, Loss: 0.1250\n",
            "Epoch 3100, Loss: 0.1250\n",
            "Epoch 3200, Loss: 0.1250\n",
            "Epoch 3300, Loss: 0.1250\n",
            "Epoch 3400, Loss: 0.1250\n",
            "Epoch 3500, Loss: 0.1250\n",
            "Epoch 3600, Loss: 0.1250\n",
            "Epoch 3700, Loss: 0.1250\n",
            "Epoch 3800, Loss: 0.1250\n",
            "Epoch 3900, Loss: 0.1250\n",
            "Epoch 4000, Loss: 0.1250\n",
            "Epoch 4100, Loss: 0.1250\n",
            "Epoch 4200, Loss: 0.1250\n",
            "Epoch 4300, Loss: 0.1250\n",
            "Epoch 4400, Loss: 0.1249\n",
            "Epoch 4500, Loss: 0.1249\n",
            "Epoch 4600, Loss: 0.1249\n",
            "Epoch 4700, Loss: 0.1249\n",
            "Epoch 4800, Loss: 0.1249\n",
            "Epoch 4900, Loss: 0.1249\n",
            "Epoch 5000, Loss: 0.1249\n",
            "Epoch 5100, Loss: 0.1249\n",
            "Epoch 5200, Loss: 0.1249\n",
            "Epoch 5300, Loss: 0.1249\n",
            "Epoch 5400, Loss: 0.1249\n",
            "Epoch 5500, Loss: 0.1249\n",
            "Epoch 5600, Loss: 0.1249\n",
            "Epoch 5700, Loss: 0.1248\n",
            "Epoch 5800, Loss: 0.1248\n",
            "Epoch 5900, Loss: 0.1248\n",
            "Epoch 6000, Loss: 0.1248\n",
            "Epoch 6100, Loss: 0.1248\n",
            "Epoch 6200, Loss: 0.1247\n",
            "Epoch 6300, Loss: 0.1247\n",
            "Epoch 6400, Loss: 0.1247\n",
            "Epoch 6500, Loss: 0.1246\n",
            "Epoch 6600, Loss: 0.1246\n",
            "Epoch 6700, Loss: 0.1245\n",
            "Epoch 6800, Loss: 0.1244\n",
            "Epoch 6900, Loss: 0.1243\n",
            "Epoch 7000, Loss: 0.1242\n",
            "Epoch 7100, Loss: 0.1240\n",
            "Epoch 7200, Loss: 0.1239\n",
            "Epoch 7300, Loss: 0.1237\n",
            "Epoch 7400, Loss: 0.1234\n",
            "Epoch 7500, Loss: 0.1230\n",
            "Epoch 7600, Loss: 0.1226\n",
            "Epoch 7700, Loss: 0.1221\n",
            "Epoch 7800, Loss: 0.1215\n",
            "Epoch 7900, Loss: 0.1207\n",
            "Epoch 8000, Loss: 0.1197\n",
            "Epoch 8100, Loss: 0.1186\n",
            "Epoch 8200, Loss: 0.1173\n",
            "Epoch 8300, Loss: 0.1157\n",
            "Epoch 8400, Loss: 0.1140\n",
            "Epoch 8500, Loss: 0.1122\n",
            "Epoch 8600, Loss: 0.1102\n",
            "Epoch 8700, Loss: 0.1082\n",
            "Epoch 8800, Loss: 0.1063\n",
            "Epoch 8900, Loss: 0.1043\n",
            "Epoch 9000, Loss: 0.1025\n",
            "Epoch 9100, Loss: 0.1007\n",
            "Epoch 9200, Loss: 0.0990\n",
            "Epoch 9300, Loss: 0.0974\n",
            "Epoch 9400, Loss: 0.0958\n",
            "Epoch 9500, Loss: 0.0941\n",
            "Epoch 9600, Loss: 0.0923\n",
            "Epoch 9700, Loss: 0.0903\n",
            "Epoch 9800, Loss: 0.0880\n",
            "Epoch 9900, Loss: 0.0853\n",
            "Epoch 10000, Loss: 0.0820\n",
            "Epoch 10100, Loss: 0.0779\n",
            "Epoch 10200, Loss: 0.0731\n",
            "Epoch 10300, Loss: 0.0674\n",
            "Epoch 10400, Loss: 0.0613\n",
            "Epoch 10500, Loss: 0.0549\n",
            "Epoch 10600, Loss: 0.0486\n",
            "Epoch 10700, Loss: 0.0429\n",
            "Epoch 10800, Loss: 0.0378\n",
            "Epoch 10900, Loss: 0.0333\n",
            "Epoch 11000, Loss: 0.0296\n",
            "Epoch 11100, Loss: 0.0264\n",
            "Epoch 11200, Loss: 0.0237\n",
            "Epoch 11300, Loss: 0.0214\n",
            "Epoch 11400, Loss: 0.0194\n",
            "Epoch 11500, Loss: 0.0177\n",
            "Epoch 11600, Loss: 0.0162\n",
            "Epoch 11700, Loss: 0.0149\n",
            "Epoch 11800, Loss: 0.0138\n",
            "Epoch 11900, Loss: 0.0129\n",
            "Epoch 12000, Loss: 0.0120\n",
            "Epoch 12100, Loss: 0.0112\n",
            "Epoch 12200, Loss: 0.0105\n",
            "Epoch 12300, Loss: 0.0099\n",
            "Epoch 12400, Loss: 0.0094\n",
            "Epoch 12500, Loss: 0.0089\n",
            "Epoch 12600, Loss: 0.0084\n",
            "Epoch 12700, Loss: 0.0080\n",
            "Epoch 12800, Loss: 0.0076\n",
            "Epoch 12900, Loss: 0.0073\n",
            "Epoch 13000, Loss: 0.0069\n",
            "Epoch 13100, Loss: 0.0066\n",
            "Epoch 13200, Loss: 0.0064\n",
            "Epoch 13300, Loss: 0.0061\n",
            "Epoch 13400, Loss: 0.0059\n",
            "Epoch 13500, Loss: 0.0056\n",
            "Epoch 13600, Loss: 0.0054\n",
            "Epoch 13700, Loss: 0.0052\n",
            "Epoch 13800, Loss: 0.0051\n",
            "Epoch 13900, Loss: 0.0049\n",
            "Epoch 14000, Loss: 0.0047\n",
            "Epoch 14100, Loss: 0.0046\n",
            "Epoch 14200, Loss: 0.0044\n",
            "Epoch 14300, Loss: 0.0043\n",
            "Epoch 14400, Loss: 0.0042\n",
            "Epoch 14500, Loss: 0.0041\n",
            "Epoch 14600, Loss: 0.0040\n",
            "Epoch 14700, Loss: 0.0038\n",
            "Epoch 14800, Loss: 0.0037\n",
            "Epoch 14900, Loss: 0.0036\n",
            "Epoch 15000, Loss: 0.0036\n",
            "Epoch 15100, Loss: 0.0035\n",
            "Epoch 15200, Loss: 0.0034\n",
            "Epoch 15300, Loss: 0.0033\n",
            "Epoch 15400, Loss: 0.0032\n",
            "Epoch 15500, Loss: 0.0032\n",
            "Epoch 15600, Loss: 0.0031\n",
            "Epoch 15700, Loss: 0.0030\n",
            "Epoch 15800, Loss: 0.0029\n",
            "Epoch 15900, Loss: 0.0029\n",
            "Epoch 16000, Loss: 0.0028\n",
            "Epoch 16100, Loss: 0.0028\n",
            "Epoch 16200, Loss: 0.0027\n",
            "Epoch 16300, Loss: 0.0027\n",
            "Epoch 16400, Loss: 0.0026\n",
            "Epoch 16500, Loss: 0.0026\n",
            "Epoch 16600, Loss: 0.0025\n",
            "Epoch 16700, Loss: 0.0025\n",
            "Epoch 16800, Loss: 0.0024\n",
            "Epoch 16900, Loss: 0.0024\n",
            "Epoch 17000, Loss: 0.0023\n",
            "Epoch 17100, Loss: 0.0023\n",
            "Epoch 17200, Loss: 0.0023\n",
            "Epoch 17300, Loss: 0.0022\n",
            "Epoch 17400, Loss: 0.0022\n",
            "Epoch 17500, Loss: 0.0021\n",
            "Epoch 17600, Loss: 0.0021\n",
            "Epoch 17700, Loss: 0.0021\n",
            "Epoch 17800, Loss: 0.0020\n",
            "Epoch 17900, Loss: 0.0020\n",
            "Epoch 18000, Loss: 0.0020\n",
            "Epoch 18100, Loss: 0.0020\n",
            "Epoch 18200, Loss: 0.0019\n",
            "Epoch 18300, Loss: 0.0019\n",
            "Epoch 18400, Loss: 0.0019\n",
            "Epoch 18500, Loss: 0.0018\n",
            "Epoch 18600, Loss: 0.0018\n",
            "Epoch 18700, Loss: 0.0018\n",
            "Epoch 18800, Loss: 0.0018\n",
            "Epoch 18900, Loss: 0.0017\n",
            "Epoch 19000, Loss: 0.0017\n",
            "Epoch 19100, Loss: 0.0017\n",
            "Epoch 19200, Loss: 0.0017\n",
            "Epoch 19300, Loss: 0.0017\n",
            "Epoch 19400, Loss: 0.0016\n",
            "Epoch 19500, Loss: 0.0016\n",
            "Epoch 19600, Loss: 0.0016\n",
            "Epoch 19700, Loss: 0.0016\n",
            "Epoch 19800, Loss: 0.0016\n",
            "Epoch 19900, Loss: 0.0015\n",
            "Epoch 20000, Loss: 0.0015\n",
            "Epoch 20100, Loss: 0.0015\n",
            "Epoch 20200, Loss: 0.0015\n",
            "Epoch 20300, Loss: 0.0015\n",
            "Epoch 20400, Loss: 0.0014\n",
            "Epoch 20500, Loss: 0.0014\n",
            "Epoch 20600, Loss: 0.0014\n",
            "Epoch 20700, Loss: 0.0014\n",
            "Epoch 20800, Loss: 0.0014\n",
            "Epoch 20900, Loss: 0.0014\n",
            "Epoch 21000, Loss: 0.0014\n",
            "Epoch 21100, Loss: 0.0013\n",
            "Epoch 21200, Loss: 0.0013\n",
            "Epoch 21300, Loss: 0.0013\n",
            "Epoch 21400, Loss: 0.0013\n",
            "Epoch 21500, Loss: 0.0013\n",
            "Epoch 21600, Loss: 0.0013\n",
            "Epoch 21700, Loss: 0.0013\n",
            "Epoch 21800, Loss: 0.0012\n",
            "Epoch 21900, Loss: 0.0012\n",
            "Epoch 22000, Loss: 0.0012\n",
            "Epoch 22100, Loss: 0.0012\n",
            "Epoch 22200, Loss: 0.0012\n",
            "Epoch 22300, Loss: 0.0012\n",
            "Epoch 22400, Loss: 0.0012\n",
            "Epoch 22500, Loss: 0.0012\n",
            "Epoch 22600, Loss: 0.0012\n",
            "Epoch 22700, Loss: 0.0011\n",
            "Epoch 22800, Loss: 0.0011\n",
            "Epoch 22900, Loss: 0.0011\n",
            "Epoch 23000, Loss: 0.0011\n",
            "Epoch 23100, Loss: 0.0011\n",
            "Epoch 23200, Loss: 0.0011\n",
            "Epoch 23300, Loss: 0.0011\n",
            "Epoch 23400, Loss: 0.0011\n",
            "Epoch 23500, Loss: 0.0011\n",
            "Epoch 23600, Loss: 0.0011\n",
            "Epoch 23700, Loss: 0.0010\n",
            "Epoch 23800, Loss: 0.0010\n",
            "Epoch 23900, Loss: 0.0010\n",
            "Epoch 24000, Loss: 0.0010\n",
            "Epoch 24100, Loss: 0.0010\n",
            "Epoch 24200, Loss: 0.0010\n",
            "Epoch 24300, Loss: 0.0010\n",
            "Epoch 24400, Loss: 0.0010\n",
            "Epoch 24500, Loss: 0.0010\n",
            "Epoch 24600, Loss: 0.0010\n",
            "Epoch 24700, Loss: 0.0010\n",
            "Epoch 24800, Loss: 0.0010\n",
            "Epoch 24900, Loss: 0.0010\n",
            "Epoch 25000, Loss: 0.0009\n",
            "Epoch 25100, Loss: 0.0009\n",
            "Epoch 25200, Loss: 0.0009\n",
            "Epoch 25300, Loss: 0.0009\n",
            "Epoch 25400, Loss: 0.0009\n",
            "Epoch 25500, Loss: 0.0009\n",
            "Epoch 25600, Loss: 0.0009\n",
            "Epoch 25700, Loss: 0.0009\n",
            "Epoch 25800, Loss: 0.0009\n",
            "Epoch 25900, Loss: 0.0009\n",
            "Epoch 26000, Loss: 0.0009\n",
            "Epoch 26100, Loss: 0.0009\n",
            "Epoch 26200, Loss: 0.0009\n",
            "Epoch 26300, Loss: 0.0009\n",
            "Epoch 26400, Loss: 0.0009\n",
            "Epoch 26500, Loss: 0.0008\n",
            "Epoch 26600, Loss: 0.0008\n",
            "Epoch 26700, Loss: 0.0008\n",
            "Epoch 26800, Loss: 0.0008\n",
            "Epoch 26900, Loss: 0.0008\n",
            "Epoch 27000, Loss: 0.0008\n",
            "Epoch 27100, Loss: 0.0008\n",
            "Epoch 27200, Loss: 0.0008\n",
            "Epoch 27300, Loss: 0.0008\n",
            "Epoch 27400, Loss: 0.0008\n",
            "Epoch 27500, Loss: 0.0008\n",
            "Epoch 27600, Loss: 0.0008\n",
            "Epoch 27700, Loss: 0.0008\n",
            "Epoch 27800, Loss: 0.0008\n",
            "Epoch 27900, Loss: 0.0008\n",
            "Epoch 28000, Loss: 0.0008\n",
            "Epoch 28100, Loss: 0.0008\n",
            "Epoch 28200, Loss: 0.0008\n",
            "Epoch 28300, Loss: 0.0008\n",
            "Epoch 28400, Loss: 0.0007\n",
            "Epoch 28500, Loss: 0.0007\n",
            "Epoch 28600, Loss: 0.0007\n",
            "Epoch 28700, Loss: 0.0007\n",
            "Epoch 28800, Loss: 0.0007\n",
            "Epoch 28900, Loss: 0.0007\n",
            "Epoch 29000, Loss: 0.0007\n",
            "Epoch 29100, Loss: 0.0007\n",
            "Epoch 29200, Loss: 0.0007\n",
            "Epoch 29300, Loss: 0.0007\n",
            "Epoch 29400, Loss: 0.0007\n",
            "Epoch 29500, Loss: 0.0007\n",
            "Epoch 29600, Loss: 0.0007\n",
            "Epoch 29700, Loss: 0.0007\n",
            "Epoch 29800, Loss: 0.0007\n",
            "Epoch 29900, Loss: 0.0007\n",
            "Epoch 30000, Loss: 0.0007\n"
          ]
        }
      ]
    },
    {
      "cell_type": "code",
      "source": [
        "plt.plot(losses)\n",
        "plt.title(\"Loss Curve (XOR)\")\n",
        "plt.xlabel(\"Epochs\")\n",
        "plt.ylabel(\"MSE\")\n",
        "plt.show()"
      ],
      "metadata": {
        "colab": {
          "base_uri": "https://localhost:8080/",
          "height": 472
        },
        "id": "qgozH3KQEL7V",
        "outputId": "0bcdd55e-091a-49d8-d0f9-d3afe7e0bea6"
      },
      "execution_count": 121,
      "outputs": [
        {
          "output_type": "display_data",
          "data": {
            "text/plain": [
              "<Figure size 640x480 with 1 Axes>"
            ],
            "image/png": "[encoded data removed]"
          },
          "metadata": {}
        }
      ]
    },
    {
      "cell_type": "code",
      "source": [
        "print(\"\\nFinal Predictions:\")\n",
        "for i in range(len(X)):\n",
        "    print(f\"Input: {X[i]} -> {predict(X[i].reshape(1,-1), w1, b1, w2, b2)[0][0]}\")"
      ],
      "metadata": {
        "colab": {
          "base_uri": "https://localhost:8080/"
        },
        "id": "CNSM_G2fENJV",
        "outputId": "d2817945-62a9-49d5-e4e2-3f74f14cb4e6"
      },
      "execution_count": 122,
      "outputs": [
        {
          "output_type": "stream",
          "name": "stdout",
          "text": [
            "\n",
            "Final Predictions:\n",
            "Input: [0 0] -> 0\n",
            "Input: [0 1] -> 1\n",
            "Input: [1 0] -> 1\n",
            "Input: [1 1] -> 0\n"
          ]
        }
      ]
    },
    {
      "cell_type": "markdown",
      "source": [
        "### Using Classes"
      ],
      "metadata": {
        "id": "E8n9Qi3HE1VX"
      }
    },
    {
      "cell_type": "code",
      "source": [
        "import numpy as np\n",
        "import matplotlib.pyplot as plt"
      ],
      "metadata": {
        "id": "zadcaeQW_qkM"
      },
      "execution_count": 78,
      "outputs": []
    },
    {
      "cell_type": "code",
      "source": [
        "X = np.array([[0,0],[0,1],[1,0],[1,1]])\n",
        "y = np.array([[0],[1],[1],[0]])"
      ],
      "metadata": {
        "id": "9TczzDxpADtl"
      },
      "execution_count": 79,
      "outputs": []
    },
    {
      "cell_type": "code",
      "source": [
        "def sigmoid(x):\n",
        "    return 1 / (1 + np.exp(-x))\n",
        "\n",
        "def sigmoid_derivative(x):\n",
        "    return x * (1 - x)"
      ],
      "metadata": {
        "id": "Q3tpOOmEAFs0"
      },
      "execution_count": 80,
      "outputs": []
    },
    {
      "cell_type": "code",
      "source": [
        "class MLP_XOR:\n",
        "    def __init__(self, input_size=2, hidden_size=2, output_size=1, lr=0.1):\n",
        "        self.lr = lr\n",
        "\n",
        "        self.W1 = np.random.randn(input_size, hidden_size)\n",
        "        self.b1 = np.zeros((1, hidden_size))\n",
        "        self.W2 = np.random.randn(hidden_size, output_size)\n",
        "        self.b2 = np.zeros((1, output_size))\n",
        "\n",
        "    def forward(self, X):\n",
        "        self.z1 = np.dot(X, self.W1) + self.b1\n",
        "        self.a1 = sigmoid(self.z1)\n",
        "        self.z2 = np.dot(self.a1, self.W2) + self.b2\n",
        "        self.a2 = sigmoid(self.z2)\n",
        "        return self.a2\n",
        "\n",
        "    def backward(self, X, y):\n",
        "        m = len(y)\n",
        "\n",
        "        error_output = self.a2 - y\n",
        "        dW2 = np.dot(self.a1.T, error_output * sigmoid_derivative(self.a2))\n",
        "        db2 = np.sum(error_output * sigmoid_derivative(self.a2), axis=0, keepdims=True)\n",
        "\n",
        "        error_hidden = np.dot(error_output * sigmoid_derivative(self.a2), self.W2.T)\n",
        "        dW1 = np.dot(X.T, error_hidden * sigmoid_derivative(self.a1))\n",
        "        db1 = np.sum(error_hidden * sigmoid_derivative(self.a1), axis=0, keepdims=True)\n",
        "\n",
        "        self.W1 -= self.lr * dW1\n",
        "        self.b1 -= self.lr * db1\n",
        "        self.W2 -= self.lr * dW2\n",
        "        self.b2 -= self.lr * db2\n",
        "\n",
        "    def train(self, X, y, epochs=1000):\n",
        "        losses = []\n",
        "        for epoch in range(epochs):\n",
        "            y_pred = self.forward(X)\n",
        "            loss = np.mean(0.5 * (y - y_pred)**2)  # MSE\n",
        "            losses.append(loss)\n",
        "            self.backward(X, y)\n",
        "\n",
        "            if (epoch+1) % 100 == 0:\n",
        "                print(f\"Epoch {epoch+1}, Loss: {loss:.4f}\")\n",
        "        return losses\n",
        "\n",
        "    def predict(self, X):\n",
        "        return (self.forward(X) > 0.5).astype(int)"
      ],
      "metadata": {
        "id": "h5yr4zOQAHs7"
      },
      "execution_count": 86,
      "outputs": []
    },
    {
      "cell_type": "code",
      "source": [
        "mlp = MLP_XOR(lr=0.1)\n",
        "losses = mlp.train(X, y, epochs=30000)"
      ],
      "metadata": {
        "colab": {
          "base_uri": "https://localhost:8080/"
        },
        "id": "kdRtfOg5AKyU",
        "outputId": "850d790c-b0fb-4d1d-924a-9a052a47d259"
      },
      "execution_count": 91,
      "outputs": [
        {
          "output_type": "stream",
          "name": "stdout",
          "text": [
            "Epoch 100, Loss: 0.1254\n",
            "Epoch 200, Loss: 0.1253\n",
            "Epoch 300, Loss: 0.1253\n",
            "Epoch 400, Loss: 0.1252\n",
            "Epoch 500, Loss: 0.1252\n",
            "Epoch 600, Loss: 0.1252\n",
            "Epoch 700, Loss: 0.1251\n",
            "Epoch 800, Loss: 0.1251\n",
            "Epoch 900, Loss: 0.1251\n",
            "Epoch 1000, Loss: 0.1251\n",
            "Epoch 1100, Loss: 0.1251\n",
            "Epoch 1200, Loss: 0.1251\n",
            "Epoch 1300, Loss: 0.1251\n",
            "Epoch 1400, Loss: 0.1251\n",
            "Epoch 1500, Loss: 0.1251\n",
            "Epoch 1600, Loss: 0.1251\n",
            "Epoch 1700, Loss: 0.1251\n",
            "Epoch 1800, Loss: 0.1250\n",
            "Epoch 1900, Loss: 0.1250\n",
            "Epoch 2000, Loss: 0.1250\n",
            "Epoch 2100, Loss: 0.1250\n",
            "Epoch 2200, Loss: 0.1250\n",
            "Epoch 2300, Loss: 0.1250\n",
            "Epoch 2400, Loss: 0.1250\n",
            "Epoch 2500, Loss: 0.1250\n",
            "Epoch 2600, Loss: 0.1250\n",
            "Epoch 2700, Loss: 0.1250\n",
            "Epoch 2800, Loss: 0.1250\n",
            "Epoch 2900, Loss: 0.1250\n",
            "Epoch 3000, Loss: 0.1250\n",
            "Epoch 3100, Loss: 0.1250\n",
            "Epoch 3200, Loss: 0.1250\n",
            "Epoch 3300, Loss: 0.1250\n",
            "Epoch 3400, Loss: 0.1250\n",
            "Epoch 3500, Loss: 0.1250\n",
            "Epoch 3600, Loss: 0.1250\n",
            "Epoch 3700, Loss: 0.1250\n",
            "Epoch 3800, Loss: 0.1250\n",
            "Epoch 3900, Loss: 0.1250\n",
            "Epoch 4000, Loss: 0.1250\n",
            "Epoch 4100, Loss: 0.1250\n",
            "Epoch 4200, Loss: 0.1250\n",
            "Epoch 4300, Loss: 0.1250\n",
            "Epoch 4400, Loss: 0.1250\n",
            "Epoch 4500, Loss: 0.1250\n",
            "Epoch 4600, Loss: 0.1250\n",
            "Epoch 4700, Loss: 0.1250\n",
            "Epoch 4800, Loss: 0.1250\n",
            "Epoch 4900, Loss: 0.1250\n",
            "Epoch 5000, Loss: 0.1250\n",
            "Epoch 5100, Loss: 0.1250\n",
            "Epoch 5200, Loss: 0.1250\n",
            "Epoch 5300, Loss: 0.1250\n",
            "Epoch 5400, Loss: 0.1250\n",
            "Epoch 5500, Loss: 0.1250\n",
            "Epoch 5600, Loss: 0.1250\n",
            "Epoch 5700, Loss: 0.1250\n",
            "Epoch 5800, Loss: 0.1250\n",
            "Epoch 5900, Loss: 0.1250\n",
            "Epoch 6000, Loss: 0.1250\n",
            "Epoch 6100, Loss: 0.1250\n",
            "Epoch 6200, Loss: 0.1250\n",
            "Epoch 6300, Loss: 0.1250\n",
            "Epoch 6400, Loss: 0.1250\n",
            "Epoch 6500, Loss: 0.1250\n",
            "Epoch 6600, Loss: 0.1250\n",
            "Epoch 6700, Loss: 0.1250\n",
            "Epoch 6800, Loss: 0.1250\n",
            "Epoch 6900, Loss: 0.1250\n",
            "Epoch 7000, Loss: 0.1250\n",
            "Epoch 7100, Loss: 0.1250\n",
            "Epoch 7200, Loss: 0.1250\n",
            "Epoch 7300, Loss: 0.1250\n",
            "Epoch 7400, Loss: 0.1250\n",
            "Epoch 7500, Loss: 0.1250\n",
            "Epoch 7600, Loss: 0.1250\n",
            "Epoch 7700, Loss: 0.1250\n",
            "Epoch 7800, Loss: 0.1250\n",
            "Epoch 7900, Loss: 0.1250\n",
            "Epoch 8000, Loss: 0.1250\n",
            "Epoch 8100, Loss: 0.1250\n",
            "Epoch 8200, Loss: 0.1250\n",
            "Epoch 8300, Loss: 0.1250\n",
            "Epoch 8400, Loss: 0.1250\n",
            "Epoch 8500, Loss: 0.1250\n",
            "Epoch 8600, Loss: 0.1250\n",
            "Epoch 8700, Loss: 0.1250\n",
            "Epoch 8800, Loss: 0.1250\n",
            "Epoch 8900, Loss: 0.1250\n",
            "Epoch 9000, Loss: 0.1250\n",
            "Epoch 9100, Loss: 0.1250\n",
            "Epoch 9200, Loss: 0.1250\n",
            "Epoch 9300, Loss: 0.1250\n",
            "Epoch 9400, Loss: 0.1250\n",
            "Epoch 9500, Loss: 0.1250\n",
            "Epoch 9600, Loss: 0.1250\n",
            "Epoch 9700, Loss: 0.1250\n",
            "Epoch 9800, Loss: 0.1250\n",
            "Epoch 9900, Loss: 0.1250\n",
            "Epoch 10000, Loss: 0.1250\n",
            "Epoch 10100, Loss: 0.1250\n",
            "Epoch 10200, Loss: 0.1250\n",
            "Epoch 10300, Loss: 0.1250\n",
            "Epoch 10400, Loss: 0.1250\n",
            "Epoch 10500, Loss: 0.1250\n",
            "Epoch 10600, Loss: 0.1250\n",
            "Epoch 10700, Loss: 0.1250\n",
            "Epoch 10800, Loss: 0.1250\n",
            "Epoch 10900, Loss: 0.1250\n",
            "Epoch 11000, Loss: 0.1250\n",
            "Epoch 11100, Loss: 0.1250\n",
            "Epoch 11200, Loss: 0.1250\n",
            "Epoch 11300, Loss: 0.1250\n",
            "Epoch 11400, Loss: 0.1250\n",
            "Epoch 11500, Loss: 0.1250\n",
            "Epoch 11600, Loss: 0.1250\n",
            "Epoch 11700, Loss: 0.1250\n",
            "Epoch 11800, Loss: 0.1250\n",
            "Epoch 11900, Loss: 0.1250\n",
            "Epoch 12000, Loss: 0.1250\n",
            "Epoch 12100, Loss: 0.1250\n",
            "Epoch 12200, Loss: 0.1250\n",
            "Epoch 12300, Loss: 0.1250\n",
            "Epoch 12400, Loss: 0.1250\n",
            "Epoch 12500, Loss: 0.1250\n",
            "Epoch 12600, Loss: 0.1250\n",
            "Epoch 12700, Loss: 0.1250\n",
            "Epoch 12800, Loss: 0.1250\n",
            "Epoch 12900, Loss: 0.1250\n",
            "Epoch 13000, Loss: 0.1250\n",
            "Epoch 13100, Loss: 0.1250\n",
            "Epoch 13200, Loss: 0.1250\n",
            "Epoch 13300, Loss: 0.1250\n",
            "Epoch 13400, Loss: 0.1250\n",
            "Epoch 13500, Loss: 0.1250\n",
            "Epoch 13600, Loss: 0.1250\n",
            "Epoch 13700, Loss: 0.1250\n",
            "Epoch 13800, Loss: 0.1250\n",
            "Epoch 13900, Loss: 0.1250\n",
            "Epoch 14000, Loss: 0.1250\n",
            "Epoch 14100, Loss: 0.1250\n",
            "Epoch 14200, Loss: 0.1250\n",
            "Epoch 14300, Loss: 0.1250\n",
            "Epoch 14400, Loss: 0.1250\n",
            "Epoch 14500, Loss: 0.1250\n",
            "Epoch 14600, Loss: 0.1250\n",
            "Epoch 14700, Loss: 0.1250\n",
            "Epoch 14800, Loss: 0.1250\n",
            "Epoch 14900, Loss: 0.1250\n",
            "Epoch 15000, Loss: 0.1250\n",
            "Epoch 15100, Loss: 0.1250\n",
            "Epoch 15200, Loss: 0.1250\n",
            "Epoch 15300, Loss: 0.1250\n",
            "Epoch 15400, Loss: 0.1250\n",
            "Epoch 15500, Loss: 0.1250\n",
            "Epoch 15600, Loss: 0.1250\n",
            "Epoch 15700, Loss: 0.1250\n",
            "Epoch 15800, Loss: 0.1250\n",
            "Epoch 15900, Loss: 0.1250\n",
            "Epoch 16000, Loss: 0.1250\n",
            "Epoch 16100, Loss: 0.1250\n",
            "Epoch 16200, Loss: 0.1250\n",
            "Epoch 16300, Loss: 0.1250\n",
            "Epoch 16400, Loss: 0.1250\n",
            "Epoch 16500, Loss: 0.1250\n",
            "Epoch 16600, Loss: 0.1250\n",
            "Epoch 16700, Loss: 0.1250\n",
            "Epoch 16800, Loss: 0.1250\n",
            "Epoch 16900, Loss: 0.1250\n",
            "Epoch 17000, Loss: 0.1250\n",
            "Epoch 17100, Loss: 0.1250\n",
            "Epoch 17200, Loss: 0.1250\n",
            "Epoch 17300, Loss: 0.1250\n",
            "Epoch 17400, Loss: 0.1250\n",
            "Epoch 17500, Loss: 0.1250\n",
            "Epoch 17600, Loss: 0.1250\n",
            "Epoch 17700, Loss: 0.1250\n",
            "Epoch 17800, Loss: 0.1250\n",
            "Epoch 17900, Loss: 0.1250\n",
            "Epoch 18000, Loss: 0.1250\n",
            "Epoch 18100, Loss: 0.1250\n",
            "Epoch 18200, Loss: 0.1250\n",
            "Epoch 18300, Loss: 0.1250\n",
            "Epoch 18400, Loss: 0.1250\n",
            "Epoch 18500, Loss: 0.1250\n",
            "Epoch 18600, Loss: 0.1250\n",
            "Epoch 18700, Loss: 0.1250\n",
            "Epoch 18800, Loss: 0.1250\n",
            "Epoch 18900, Loss: 0.1250\n",
            "Epoch 19000, Loss: 0.1250\n",
            "Epoch 19100, Loss: 0.1250\n",
            "Epoch 19200, Loss: 0.1250\n",
            "Epoch 19300, Loss: 0.1250\n",
            "Epoch 19400, Loss: 0.1250\n",
            "Epoch 19500, Loss: 0.1250\n",
            "Epoch 19600, Loss: 0.1249\n",
            "Epoch 19700, Loss: 0.1249\n",
            "Epoch 19800, Loss: 0.1249\n",
            "Epoch 19900, Loss: 0.1249\n",
            "Epoch 20000, Loss: 0.1249\n",
            "Epoch 20100, Loss: 0.1249\n",
            "Epoch 20200, Loss: 0.1249\n",
            "Epoch 20300, Loss: 0.1249\n",
            "Epoch 20400, Loss: 0.1249\n",
            "Epoch 20500, Loss: 0.1249\n",
            "Epoch 20600, Loss: 0.1249\n",
            "Epoch 20700, Loss: 0.1249\n",
            "Epoch 20800, Loss: 0.1249\n",
            "Epoch 20900, Loss: 0.1249\n",
            "Epoch 21000, Loss: 0.1249\n",
            "Epoch 21100, Loss: 0.1249\n",
            "Epoch 21200, Loss: 0.1249\n",
            "Epoch 21300, Loss: 0.1249\n",
            "Epoch 21400, Loss: 0.1249\n",
            "Epoch 21500, Loss: 0.1249\n",
            "Epoch 21600, Loss: 0.1249\n",
            "Epoch 21700, Loss: 0.1248\n",
            "Epoch 21800, Loss: 0.1248\n",
            "Epoch 21900, Loss: 0.1248\n",
            "Epoch 22000, Loss: 0.1248\n",
            "Epoch 22100, Loss: 0.1248\n",
            "Epoch 22200, Loss: 0.1247\n",
            "Epoch 22300, Loss: 0.1247\n",
            "Epoch 22400, Loss: 0.1247\n",
            "Epoch 22500, Loss: 0.1246\n",
            "Epoch 22600, Loss: 0.1246\n",
            "Epoch 22700, Loss: 0.1245\n",
            "Epoch 22800, Loss: 0.1245\n",
            "Epoch 22900, Loss: 0.1244\n",
            "Epoch 23000, Loss: 0.1243\n",
            "Epoch 23100, Loss: 0.1242\n",
            "Epoch 23200, Loss: 0.1240\n",
            "Epoch 23300, Loss: 0.1238\n",
            "Epoch 23400, Loss: 0.1236\n",
            "Epoch 23500, Loss: 0.1233\n",
            "Epoch 23600, Loss: 0.1229\n",
            "Epoch 23700, Loss: 0.1224\n",
            "Epoch 23800, Loss: 0.1217\n",
            "Epoch 23900, Loss: 0.1209\n",
            "Epoch 24000, Loss: 0.1199\n",
            "Epoch 24100, Loss: 0.1186\n",
            "Epoch 24200, Loss: 0.1171\n",
            "Epoch 24300, Loss: 0.1153\n",
            "Epoch 24400, Loss: 0.1132\n",
            "Epoch 24500, Loss: 0.1109\n",
            "Epoch 24600, Loss: 0.1085\n",
            "Epoch 24700, Loss: 0.1059\n",
            "Epoch 24800, Loss: 0.1034\n",
            "Epoch 24900, Loss: 0.1008\n",
            "Epoch 25000, Loss: 0.0983\n",
            "Epoch 25100, Loss: 0.0957\n",
            "Epoch 25200, Loss: 0.0930\n",
            "Epoch 25300, Loss: 0.0901\n",
            "Epoch 25400, Loss: 0.0868\n",
            "Epoch 25500, Loss: 0.0830\n",
            "Epoch 25600, Loss: 0.0785\n",
            "Epoch 25700, Loss: 0.0730\n",
            "Epoch 25800, Loss: 0.0664\n",
            "Epoch 25900, Loss: 0.0588\n",
            "Epoch 26000, Loss: 0.0508\n",
            "Epoch 26100, Loss: 0.0430\n",
            "Epoch 26200, Loss: 0.0360\n",
            "Epoch 26300, Loss: 0.0301\n",
            "Epoch 26400, Loss: 0.0253\n",
            "Epoch 26500, Loss: 0.0215\n",
            "Epoch 26600, Loss: 0.0184\n",
            "Epoch 26700, Loss: 0.0160\n",
            "Epoch 26800, Loss: 0.0140\n",
            "Epoch 26900, Loss: 0.0124\n",
            "Epoch 27000, Loss: 0.0111\n",
            "Epoch 27100, Loss: 0.0100\n",
            "Epoch 27200, Loss: 0.0091\n",
            "Epoch 27300, Loss: 0.0083\n",
            "Epoch 27400, Loss: 0.0076\n",
            "Epoch 27500, Loss: 0.0070\n",
            "Epoch 27600, Loss: 0.0065\n",
            "Epoch 27700, Loss: 0.0061\n",
            "Epoch 27800, Loss: 0.0057\n",
            "Epoch 27900, Loss: 0.0053\n",
            "Epoch 28000, Loss: 0.0050\n",
            "Epoch 28100, Loss: 0.0047\n",
            "Epoch 28200, Loss: 0.0045\n",
            "Epoch 28300, Loss: 0.0042\n",
            "Epoch 28400, Loss: 0.0040\n",
            "Epoch 28500, Loss: 0.0038\n",
            "Epoch 28600, Loss: 0.0037\n",
            "Epoch 28700, Loss: 0.0035\n",
            "Epoch 28800, Loss: 0.0034\n",
            "Epoch 28900, Loss: 0.0032\n",
            "Epoch 29000, Loss: 0.0031\n",
            "Epoch 29100, Loss: 0.0030\n",
            "Epoch 29200, Loss: 0.0029\n",
            "Epoch 29300, Loss: 0.0028\n",
            "Epoch 29400, Loss: 0.0027\n",
            "Epoch 29500, Loss: 0.0026\n",
            "Epoch 29600, Loss: 0.0025\n",
            "Epoch 29700, Loss: 0.0024\n",
            "Epoch 29800, Loss: 0.0023\n",
            "Epoch 29900, Loss: 0.0023\n",
            "Epoch 30000, Loss: 0.0022\n"
          ]
        }
      ]
    },
    {
      "cell_type": "code",
      "source": [
        "plt.plot(losses)\n",
        "plt.title(\"Loss Curve\")\n",
        "plt.xlabel(\"Epochs\")\n",
        "plt.ylabel(\"MSE Loss\")\n",
        "plt.show()"
      ],
      "metadata": {
        "colab": {
          "base_uri": "https://localhost:8080/",
          "height": 472
        },
        "id": "eh7c5A8rAL4l",
        "outputId": "7d4d6dfb-a3e1-4cb0-8de6-7b4803498648"
      },
      "execution_count": 92,
      "outputs": [
        {
          "output_type": "display_data",
          "data": {
            "text/plain": [
              "<Figure size 640x480 with 1 Axes>"
            ],
            "image/png": "[encoded data removed]"
          },
          "metadata": {}
        }
      ]
    },
    {
      "cell_type": "code",
      "source": [
        "xx, yy = np.meshgrid(np.linspace(-0.5, 1.5, 100), np.linspace(-0.5, 1.5, 100))\n",
        "grid = np.c_[xx.ravel(), yy.ravel()]\n",
        "preds = mlp.forward(grid).reshape(xx.shape)\n",
        "\n",
        "plt.contourf(xx, yy, preds, levels=[0,0.5,1], alpha=0.3, cmap=\"RdBu\")\n",
        "plt.scatter(X[:,0], X[:,1], c=y.ravel(), cmap=\"RdBu\", edgecolors=\"k\")\n",
        "plt.title(\"Decision Boundary for XOR\")\n",
        "plt.show()"
      ],
      "metadata": {
        "colab": {
          "base_uri": "https://localhost:8080/",
          "height": 452
        },
        "id": "fbu6yvUHAq_5",
        "outputId": "1718b229-50ca-42aa-a6d8-936846e21971"
      },
      "execution_count": 93,
      "outputs": [
        {
          "output_type": "display_data",
          "data": {
            "text/plain": [
              "<Figure size 640x480 with 1 Axes>"
            ],
            "image/png": "[encoded data removed]"
          },
          "metadata": {}
        }
      ]
    },
    {
      "cell_type": "code",
      "source": [
        "print(\"Predictions:\")\n",
        "for i in range(len(X)):\n",
        "    print(f\"Input: {X[i]} -> Predicted: {mlp.predict(X[i].reshape(1,-1))[0][0]}\")"
      ],
      "metadata": {
        "colab": {
          "base_uri": "https://localhost:8080/"
        },
        "id": "5cOVeZhzAOd6",
        "outputId": "5a3dabe9-008f-4630-f1e0-0b381b7cf98d"
      },
      "execution_count": 94,
      "outputs": [
        {
          "output_type": "stream",
          "name": "stdout",
          "text": [
            "Predictions:\n",
            "Input: [0 0] -> Predicted: 0\n",
            "Input: [0 1] -> Predicted: 1\n",
            "Input: [1 0] -> Predicted: 1\n",
            "Input: [1 1] -> Predicted: 0\n"
          ]
        }
      ]
    },
    {
      "cell_type": "code",
      "source": [],
      "metadata": {
        "id": "qq5i7rpsAmFH"
      },
      "execution_count": null,
      "outputs": []
    },
    {
      "cell_type": "markdown",
      "source": [
        "## **Task 3**"
      ],
      "metadata": {
        "id": "NBdrU8mnFBfC"
      }
    },
    {
      "cell_type": "markdown",
      "source": [
        "Train a feedforward neural network (FNN) to classify handwritten digits from the MNIST\n",
        "dataset."
      ],
      "metadata": {
        "id": "1oJrOpxxFSyn"
      }
    },
    {
      "cell_type": "markdown",
      "source": [
        "### Basic\n"
      ],
      "metadata": {
        "id": "-2MIYj5tGM83"
      }
    },
    {
      "cell_type": "code",
      "source": [
        "import numpy as np\n",
        "import matplotlib.pyplot as plt\n",
        "from keras.datasets import mnist"
      ],
      "metadata": {
        "id": "0GHj0a5NGPjr"
      },
      "execution_count": 128,
      "outputs": []
    },
    {
      "cell_type": "code",
      "source": [
        "class MNISTDataset:\n",
        "    def __init__(self):\n",
        "        (x_train, y_train), (x_test, y_test) = mnist.load_data()\n",
        "        # Flatten (28x28 -> 784), normalize\n",
        "        self.x_train = x_train.reshape(-1, 784).astype(\"float32\") / 255.0\n",
        "        self.x_test = x_test.reshape(-1, 784).astype(\"float32\") / 255.0\n",
        "\n",
        "        # One-hot encoding for labels\n",
        "        self.y_train = np.eye(10)[y_train]\n",
        "        self.y_test = np.eye(10)[y_test]"
      ],
      "metadata": {
        "id": "_x8BAJIBGQ32"
      },
      "execution_count": 129,
      "outputs": []
    },
    {
      "cell_type": "code",
      "source": [
        "w1 = np.random.randn(784, 128)\n",
        "b1 = np.zeros((1, 128))\n",
        "\n",
        "w2 = np.random.randn(128,"
      ],
      "metadata": {
        "id": "djhA7u5-Hmov"
      },
      "execution_count": null,
      "outputs": []
    },
    {
      "cell_type": "markdown",
      "source": [
        "### Using Class\n"
      ],
      "metadata": {
        "id": "5vdQx5ZzGJkl"
      }
    },
    {
      "cell_type": "code",
      "source": [
        "import numpy as np\n",
        "import matplotlib.pyplot as plt\n",
        "from keras.datasets import mnist"
      ],
      "metadata": {
        "id": "cGs6xRtyFC9n"
      },
      "execution_count": 123,
      "outputs": []
    },
    {
      "cell_type": "code",
      "source": [
        "class MNISTDataset:\n",
        "    def __init__(self):\n",
        "        (x_train, y_train), (x_test, y_test) = mnist.load_data()\n",
        "        # Flatten (28x28 -> 784), normalize\n",
        "        self.x_train = x_train.reshape(-1, 784).astype(\"float32\") / 255.0\n",
        "        self.x_test = x_test.reshape(-1, 784).astype(\"float32\") / 255.0\n",
        "\n",
        "        # One-hot encoding for labels\n",
        "        self.y_train = np.eye(10)[y_train]\n",
        "        self.y_test = np.eye(10)[y_test]"
      ],
      "metadata": {
        "id": "EZnA_RcdFrH4"
      },
      "execution_count": 124,
      "outputs": []
    },
    {
      "cell_type": "code",
      "source": [
        "class FeedforwardNN:\n",
        "    def __init__(self, input_dim=784, hidden_dim=128, output_dim=10, lr=0.001):\n",
        "        self.lr = lr\n",
        "        # Xavier initialization\n",
        "        self.W1 = np.random.randn(input_dim, hidden_dim) / np.sqrt(input_dim)\n",
        "        self.b1 = np.zeros((1, hidden_dim))\n",
        "        self.W2 = np.random.randn(hidden_dim, hidden_dim) / np.sqrt(hidden_dim)\n",
        "        self.b2 = np.zeros((1, hidden_dim))\n",
        "        self.W3 = np.random.randn(hidden_dim, output_dim) / np.sqrt(hidden_dim)\n",
        "        self.b3 = np.zeros((1, output_dim))\n",
        "\n",
        "    # Activation functions\n",
        "    def relu(self, x):\n",
        "        return np.maximum(0, x)\n",
        "\n",
        "    def relu_derivative(self, x):\n",
        "        return (x > 0).astype(float)\n",
        "\n",
        "    def softmax(self, x):\n",
        "        exp_x = np.exp(x - np.max(x, axis=1, keepdims=True))\n",
        "        return exp_x / np.sum(exp_x, axis=1, keepdims=True)\n",
        "\n",
        "    # Forward pass\n",
        "    def forward(self, X):\n",
        "        self.z1 = np.dot(X, self.W1) + self.b1\n",
        "        self.a1 = self.relu(self.z1)\n",
        "\n",
        "        self.z2 = np.dot(self.a1, self.W2) + self.b2\n",
        "        self.a2 = self.relu(self.z2)\n",
        "\n",
        "        self.z3 = np.dot(self.a2, self.W3) + self.b3\n",
        "        self.a3 = self.softmax(self.z3)\n",
        "\n",
        "        return self.a3\n",
        "\n",
        "    # Backward pass (cross-entropy loss)\n",
        "    def backward(self, X, y, output):\n",
        "        m = y.shape[0]\n",
        "\n",
        "        dz3 = output - y\n",
        "        dW3 = np.dot(self.a2.T, dz3) / m\n",
        "        db3 = np.sum(dz3, axis=0, keepdims=True) / m\n",
        "\n",
        "        dz2 = np.dot(dz3, self.W3.T) * self.relu_derivative(self.z2)\n",
        "        dW2 = np.dot(self.a1.T, dz2) / m\n",
        "        db2 = np.sum(dz2, axis=0, keepdims=True) / m\n",
        "\n",
        "        dz1 = np.dot(dz2, self.W2.T) * self.relu_derivative(self.z1)\n",
        "        dW1 = np.dot(X.T, dz1) / m\n",
        "        db1 = np.sum(dz1, axis=0, keepdims=True) / m\n",
        "\n",
        "        # Gradient descent update\n",
        "        self.W3 -= self.lr * dW3\n",
        "        self.b3 -= self.lr * db3\n",
        "        self.W2 -= self.lr * dW2\n",
        "        self.b2 -= self.lr * db2\n",
        "        self.W1 -= self.lr * dW1\n",
        "        self.b1 -= self.lr * db1\n",
        "\n",
        "    # Loss (categorical crossentropy)\n",
        "    def compute_loss(self, y_true, y_pred):\n",
        "        m = y_true.shape[0]\n",
        "        loss = -np.sum(y_true * np.log(y_pred + 1e-8)) / m\n",
        "        return loss\n",
        "\n",
        "    def predict(self, X):\n",
        "        probs = self.forward(X)\n",
        "        return np.argmax(probs, axis=1)"
      ],
      "metadata": {
        "id": "aX1HCXkeFsqv"
      },
      "execution_count": 125,
      "outputs": []
    },
    {
      "cell_type": "code",
      "source": [
        "class Trainer:\n",
        "    def __init__(self, model, dataset):\n",
        "        self.model = model\n",
        "        self.dataset = dataset\n",
        "\n",
        "    def train(self, epochs=100, batch_size=32):\n",
        "        losses = []\n",
        "        for epoch in range(epochs):\n",
        "            # Mini-batch SGD\n",
        "            idx = np.random.permutation(len(self.dataset.x_train))\n",
        "            X_shuffled = self.dataset.x_train[idx]\n",
        "            y_shuffled = self.dataset.y_train[idx]\n",
        "\n",
        "            for i in range(0, len(X_shuffled), batch_size):\n",
        "                X_batch = X_shuffled[i:i+batch_size]\n",
        "                y_batch = y_shuffled[i:i+batch_size]\n",
        "\n",
        "                outputs = self.model.forward(X_batch)\n",
        "                self.model.backward(X_batch, y_batch, outputs)\n",
        "\n",
        "            # Track loss\n",
        "            outputs = self.model.forward(self.dataset.x_train[:1000])  # small subset\n",
        "            loss = self.model.compute_loss(self.dataset.y_train[:1000], outputs)\n",
        "            losses.append(loss)\n",
        "            print(f\"Epoch {epoch+1}/{epochs}, Loss: {loss:.4f}\")\n",
        "\n",
        "        # Plot loss\n",
        "        plt.plot(losses)\n",
        "        plt.xlabel(\"Epochs\")\n",
        "        plt.ylabel(\"Loss\")\n",
        "        plt.title(\"Training Loss Curve\")\n",
        "        plt.show()\n",
        "\n",
        "    def evaluate(self):\n",
        "        preds = self.model.predict(self.dataset.x_test)\n",
        "        true = np.argmax(self.dataset.y_test, axis=1)\n",
        "        acc = np.mean(preds == true)\n",
        "        print(f\"Test Accuracy: {acc*100:.2f}%\")\n",
        "        return acc\n",
        "\n",
        "    def visualize_predictions(self, n=5):\n",
        "        preds = self.model.predict(self.dataset.x_test[:n])\n",
        "        true = np.argmax(self.dataset.y_test[:n], axis=1)\n",
        "\n",
        "        plt.figure(figsize=(10, 3))\n",
        "        for i in range(n):\n",
        "            plt.subplot(1, n, i+1)\n",
        "            plt.imshow(self.dataset.x_test[i].reshape(28, 28), cmap=\"gray\")\n",
        "            plt.title(f\"P:{preds[i]} / T:{true[i]}\")\n",
        "            plt.axis(\"off\")\n",
        "        plt.show()"
      ],
      "metadata": {
        "id": "T0OtTctrFu6R"
      },
      "execution_count": 130,
      "outputs": []
    },
    {
      "cell_type": "code",
      "source": [
        "dataset = MNISTDataset()\n",
        "model = FeedforwardNN()\n",
        "trainer = Trainer(model, dataset)\n",
        "\n",
        "trainer.train(epochs=100, batch_size=32)\n",
        "trainer.evaluate()\n",
        "trainer.visualize_predictions(n=5)"
      ],
      "metadata": {
        "colab": {
          "base_uri": "https://localhost:8080/",
          "height": 1000
        },
        "id": "5if092b9Fw-v",
        "outputId": "7b648949-a399-4727-b6cd-833f43bda134"
      },
      "execution_count": 132,
      "outputs": [
        {
          "output_type": "stream",
          "name": "stdout",
          "text": [
            "Epoch 1/100, Loss: 1.7338\n",
            "Epoch 2/100, Loss: 1.0237\n",
            "Epoch 3/100, Loss: 0.7088\n",
            "Epoch 4/100, Loss: 0.5730\n",
            "Epoch 5/100, Loss: 0.4989\n",
            "Epoch 6/100, Loss: 0.4528\n",
            "Epoch 7/100, Loss: 0.4207\n",
            "Epoch 8/100, Loss: 0.3975\n",
            "Epoch 9/100, Loss: 0.3812\n",
            "Epoch 10/100, Loss: 0.3640\n",
            "Epoch 11/100, Loss: 0.3522\n",
            "Epoch 12/100, Loss: 0.3436\n",
            "Epoch 13/100, Loss: 0.3306\n",
            "Epoch 14/100, Loss: 0.3236\n",
            "Epoch 15/100, Loss: 0.3154\n",
            "Epoch 16/100, Loss: 0.3081\n",
            "Epoch 17/100, Loss: 0.3011\n",
            "Epoch 18/100, Loss: 0.2954\n",
            "Epoch 19/100, Loss: 0.2896\n",
            "Epoch 20/100, Loss: 0.2841\n",
            "Epoch 21/100, Loss: 0.2806\n",
            "Epoch 22/100, Loss: 0.2749\n",
            "Epoch 23/100, Loss: 0.2698\n",
            "Epoch 24/100, Loss: 0.2651\n",
            "Epoch 25/100, Loss: 0.2631\n",
            "Epoch 26/100, Loss: 0.2556\n",
            "Epoch 27/100, Loss: 0.2529\n",
            "Epoch 28/100, Loss: 0.2488\n",
            "Epoch 29/100, Loss: 0.2443\n",
            "Epoch 30/100, Loss: 0.2441\n",
            "Epoch 31/100, Loss: 0.2372\n",
            "Epoch 32/100, Loss: 0.2355\n",
            "Epoch 33/100, Loss: 0.2312\n",
            "Epoch 34/100, Loss: 0.2285\n",
            "Epoch 35/100, Loss: 0.2245\n",
            "Epoch 36/100, Loss: 0.2233\n",
            "Epoch 37/100, Loss: 0.2187\n",
            "Epoch 38/100, Loss: 0.2144\n",
            "Epoch 39/100, Loss: 0.2130\n",
            "Epoch 40/100, Loss: 0.2097\n",
            "Epoch 41/100, Loss: 0.2059\n",
            "Epoch 42/100, Loss: 0.2035\n",
            "Epoch 43/100, Loss: 0.2022\n",
            "Epoch 44/100, Loss: 0.1986\n",
            "Epoch 45/100, Loss: 0.1959\n",
            "Epoch 46/100, Loss: 0.1954\n",
            "Epoch 47/100, Loss: 0.1914\n",
            "Epoch 48/100, Loss: 0.1905\n",
            "Epoch 49/100, Loss: 0.1883\n",
            "Epoch 50/100, Loss: 0.1860\n",
            "Epoch 51/100, Loss: 0.1838\n",
            "Epoch 52/100, Loss: 0.1812\n",
            "Epoch 53/100, Loss: 0.1797\n",
            "Epoch 54/100, Loss: 0.1783\n",
            "Epoch 55/100, Loss: 0.1748\n",
            "Epoch 56/100, Loss: 0.1758\n",
            "Epoch 57/100, Loss: 0.1728\n",
            "Epoch 58/100, Loss: 0.1707\n",
            "Epoch 59/100, Loss: 0.1698\n",
            "Epoch 60/100, Loss: 0.1675\n",
            "Epoch 61/100, Loss: 0.1661\n",
            "Epoch 62/100, Loss: 0.1637\n",
            "Epoch 63/100, Loss: 0.1632\n",
            "Epoch 64/100, Loss: 0.1625\n",
            "Epoch 65/100, Loss: 0.1601\n",
            "Epoch 66/100, Loss: 0.1569\n",
            "Epoch 67/100, Loss: 0.1554\n",
            "Epoch 68/100, Loss: 0.1536\n",
            "Epoch 69/100, Loss: 0.1544\n",
            "Epoch 70/100, Loss: 0.1521\n",
            "Epoch 71/100, Loss: 0.1508\n",
            "Epoch 72/100, Loss: 0.1483\n",
            "Epoch 73/100, Loss: 0.1465\n",
            "Epoch 74/100, Loss: 0.1459\n",
            "Epoch 75/100, Loss: 0.1452\n",
            "Epoch 76/100, Loss: 0.1445\n",
            "Epoch 77/100, Loss: 0.1429\n",
            "Epoch 78/100, Loss: 0.1420\n",
            "Epoch 79/100, Loss: 0.1427\n",
            "Epoch 80/100, Loss: 0.1403\n",
            "Epoch 81/100, Loss: 0.1388\n",
            "Epoch 82/100, Loss: 0.1383\n",
            "Epoch 83/100, Loss: 0.1363\n",
            "Epoch 84/100, Loss: 0.1354\n",
            "Epoch 85/100, Loss: 0.1329\n",
            "Epoch 86/100, Loss: 0.1333\n",
            "Epoch 87/100, Loss: 0.1316\n",
            "Epoch 88/100, Loss: 0.1302\n",
            "Epoch 89/100, Loss: 0.1299\n",
            "Epoch 90/100, Loss: 0.1294\n",
            "Epoch 91/100, Loss: 0.1272\n",
            "Epoch 92/100, Loss: 0.1252\n",
            "Epoch 93/100, Loss: 0.1242\n",
            "Epoch 94/100, Loss: 0.1258\n",
            "Epoch 95/100, Loss: 0.1236\n",
            "Epoch 96/100, Loss: 0.1231\n",
            "Epoch 97/100, Loss: 0.1225\n",
            "Epoch 98/100, Loss: 0.1217\n",
            "Epoch 99/100, Loss: 0.1214\n",
            "Epoch 100/100, Loss: 0.1181\n"
          ]
        },
        {
          "output_type": "display_data",
          "data": {
            "text/plain": [
              "<Figure size 640x480 with 1 Axes>"
            ],
            "image/png": "[encoded data removed]"
          },
          "metadata": {}
        },
        {
          "output_type": "stream",
          "name": "stdout",
          "text": [
            "Test Accuracy: 96.39%\n"
          ]
        },
        {
          "output_type": "display_data",
          "data": {
            "text/plain": [
              "<Figure size 1000x300 with 5 Axes>"
            ],
            "image/png": "[encoded data removed]"
          },
          "metadata": {}
        }
      ]
    },
    {
      "cell_type": "code",
      "source": [],
      "metadata": {
        "id": "Zd18MywtF0K_"
      },
      "execution_count": null,
      "outputs": []
    }
  ]
}